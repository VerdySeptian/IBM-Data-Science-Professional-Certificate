{
 "cells": [
  {
   "cell_type": "markdown",
   "id": "ede1c0b8",
   "metadata": {},
   "source": [
    "# My Jupyter Notebook on IBM Watson Studio"
   ]
  },
  {
   "cell_type": "markdown",
   "id": "ebdcd49d",
   "metadata": {},
   "source": [
    "**VERDY SEPTIAN NUGRAHA**\n",
    "\n",
    "DATA ANALYST"
   ]
  },
  {
   "cell_type": "markdown",
   "id": "b056ad4e",
   "metadata": {},
   "source": [
    "*I worship data for making any decision.\n",
    "I would make the best of my data analyst and data scence skill for the good of people.*"
   ]
  },
  {
   "cell_type": "markdown",
   "id": "64682c1e",
   "metadata": {},
   "source": [
    "### Lets print 'Hello World' for the first step of my journey."
   ]
  },
  {
   "cell_type": "code",
   "execution_count": 2,
   "id": "6529766d",
   "metadata": {},
   "outputs": [
    {
     "name": "stdout",
     "output_type": "stream",
     "text": [
      "Hello IBM, I'm Verdy\n"
     ]
    }
   ],
   "source": [
    "print(\"Hello IBM, I'm Verdy\")"
   ]
  },
  {
   "cell_type": "markdown",
   "id": "943475af",
   "metadata": {},
   "source": [
    "> Hi, I am Verdy\n",
    ">\n",
    "   -  My Portfolio : https://github.com/VerdySeptian\n",
    "   -  Email : <verdy.septian.n@gmail.com>\n",
    "  \n",
    "<hr>\n",
    "\n",
    "Made with <3 [My Github](https://github.com/VerdySeptian)\n"
   ]
  }
 ],
 "metadata": {
  "kernelspec": {
   "display_name": "Python 3 (ipykernel)",
   "language": "python",
   "name": "python3"
  },
  "language_info": {
   "codemirror_mode": {
    "name": "ipython",
    "version": 3
   },
   "file_extension": ".py",
   "mimetype": "text/x-python",
   "name": "python",
   "nbconvert_exporter": "python",
   "pygments_lexer": "ipython3",
   "version": "3.8.2"
  }
 },
 "nbformat": 4,
 "nbformat_minor": 5
}
